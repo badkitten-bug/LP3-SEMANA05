{
 "cells": [
  {
   "cell_type": "markdown",
   "id": "2686a84b",
   "metadata": {},
   "source": [
    "# Semana 05\n",
    "Gomez Huamani Steve\n",
    "\n"
   ]
  },
  {
   "cell_type": "raw",
   "id": "0eb0b545",
   "metadata": {},
   "source": [
    "Temas"
   ]
  },
  {
   "cell_type": "markdown",
   "id": "12278478",
   "metadata": {},
   "source": [
    "1. Números\n",
    "2. Variables\n",
    "3. Manejo de cadenas\n",
    "4. Ingreso de datos por teclado\n",
    "5. Operadores"
   ]
  },
  {
   "cell_type": "markdown",
   "id": "edc8d840",
   "metadata": {},
   "source": [
    "4. Ingreso de datos por el teclado"
   ]
  },
  {
   "cell_type": "code",
   "execution_count": 3,
   "id": "fb7331f8",
   "metadata": {},
   "outputs": [
    {
     "name": "stdout",
     "output_type": "stream",
     "text": [
      "¿Cual es tu nombre?\n",
      "Antony\n",
      "Hola Antony\n"
     ]
    }
   ],
   "source": [
    "# Funcion input()\n",
    "print(\"¿Cual es tu nombre?\")\n",
    "nombre = input()\n",
    "print(\"Hola \"+ nombre)"
   ]
  },
  {
   "cell_type": "code",
   "execution_count": 4,
   "id": "aa19694d",
   "metadata": {},
   "outputs": [
    {
     "name": "stdout",
     "output_type": "stream",
     "text": [
      "numero1: \n",
      "2\n",
      "numero2: \n",
      "3\n",
      "5\n"
     ]
    }
   ],
   "source": [
    "# Cuando ingreso un valor por teclado lo hara como cadena\n",
    "print(\"numero1: \")\n",
    "numero1 = input()\n",
    "print(\"numero2: \")\n",
    "numero2 = input()\n",
    "numero3=int(numero1)+int(numero2)\n",
    "print(numero3)"
   ]
  },
  {
   "cell_type": "code",
   "execution_count": null,
   "id": "3ca4f4ee",
   "metadata": {},
   "outputs": [],
   "source": []
  }
 ],
 "metadata": {
  "kernelspec": {
   "display_name": "Python 3 (ipykernel)",
   "language": "python",
   "name": "python3"
  },
  "language_info": {
   "codemirror_mode": {
    "name": "ipython",
    "version": 3
   },
   "file_extension": ".py",
   "mimetype": "text/x-python",
   "name": "python",
   "nbconvert_exporter": "python",
   "pygments_lexer": "ipython3",
   "version": "3.9.7"
  }
 },
 "nbformat": 4,
 "nbformat_minor": 5
}
